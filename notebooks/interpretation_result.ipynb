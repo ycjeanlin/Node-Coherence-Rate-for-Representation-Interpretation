{
 "cells": [
  {
   "cell_type": "code",
   "execution_count": 2,
   "metadata": {},
   "outputs": [
    {
     "data": {
      "text/plain": [
       "'/home/ubuntu/NCI/notebooks'"
      ]
     },
     "execution_count": 2,
     "metadata": {},
     "output_type": "execute_result"
    }
   ],
   "source": [
    "import os\n",
    "os.getcwd()"
   ]
  },
  {
   "cell_type": "code",
   "execution_count": 3,
   "metadata": {},
   "outputs": [
    {
     "data": {
      "text/plain": [
       "'/home/ubuntu/NCI'"
      ]
     },
     "execution_count": 3,
     "metadata": {},
     "output_type": "execute_result"
    }
   ],
   "source": [
    "import os\n",
    "os.chdir(\"/home/ubuntu/NCI\")\n",
    "os.getcwd()"
   ]
  },
  {
   "cell_type": "code",
   "execution_count": 4,
   "metadata": {},
   "outputs": [],
   "source": [
    "import json\n",
    "import pandas as pd\n",
    "\n",
    "import matplotlib.pyplot as plt\n",
    "import matplotlib.colors as mcolors\n",
    "import seaborn as sns\n",
    "\n",
    "plt.rc('font', family='serif')\n",
    "\n",
    "params = {\n",
    "    'axes.labelsize': 18,\n",
    "    'axes.titlesize': 20,\n",
    "    'xtick.labelsize': 20,\n",
    "    'ytick.labelsize': 14,\n",
    "    'legend.fontsize': 16,\n",
    "}\n",
    "plt.rcParams.update(params)\n",
    "pd.set_option(\"display.precision\", 4)\n",
    "pd.options.display.float_format = '{:,.4f}'.format\n",
    "\n",
    "\n",
    "color_list = list(mcolors.TABLEAU_COLORS)"
   ]
  },
  {
   "attachments": {},
   "cell_type": "markdown",
   "metadata": {},
   "source": [
    "# INIT"
   ]
  },
  {
   "cell_type": "code",
   "execution_count": 5,
   "metadata": {},
   "outputs": [],
   "source": [
    "task = \"nc\"\n",
    "data_suffix = \"baseline\"\n",
    "base_folder = f\"./data\""
   ]
  },
  {
   "cell_type": "code",
   "execution_count": 6,
   "metadata": {},
   "outputs": [],
   "source": [
    "datasets = {\n",
    "    'Cora': 'Cora',\n",
    "}\n",
    "\n",
    "data_order = {\n",
    "    'Cora': 1,\n",
    "}\n",
    "\n",
    "rel_formal_names = {\n",
    "    \"attr\": \"Attr\",\n",
    "    \"attr_dist\": \"1-Attr\",\n",
    "    \"common_neighbor\": \"JS\",\n",
    "    \"degree_dist\": \"1-Deg\",\n",
    "    \"g_dist\": \"SPD\",\n",
    "    \"has_link\": \"Link\",\n",
    "    \"label_dist\": \"1-Label\",\n",
    "    \"pagerank\": \"PR\"\n",
    "}\n",
    "\n",
    "model_formal_names = {\n",
    "    \"random\": \"Random\",\n",
    "    \"gcn\": \"GCN\",\n",
    "}\n",
    "\n",
    "model_order = {\n",
    "    \"random\": 0,\n",
    "    \"Cantelli's UB\": 1,\n",
    "    \"gcn\": 4,\n",
    "}\n",
    "\n",
    "relation_order = {\n",
    "    \"Link\": 0,\n",
    "    \"SPD\": 1, \n",
    "    \"JS\": 2,\n",
    "    \"PR\": 3,\n",
    "    \"1-Deg\": 4,\n",
    "    \"1-Label\": 5,\n",
    "    \"Attr\": 6,\n",
    "    \"1-Attr\": 7,\n",
    "}"
   ]
  },
  {
   "attachments": {},
   "cell_type": "markdown",
   "metadata": {},
   "source": [
    "# Intrinsic Evaluation "
   ]
  },
  {
   "attachments": {},
   "cell_type": "markdown",
   "metadata": {},
   "source": [
    "## Intrusion Test"
   ]
  },
  {
   "cell_type": "code",
   "execution_count": 7,
   "metadata": {},
   "outputs": [],
   "source": [
    "data_df = pd.DataFrame()\n",
    "for dataset_name in datasets:\n",
    "    test_config = json.load(open(f\"./config/{dataset_name}_coherence_test.json\", \"r\"))\n",
    "    for data_suffix in test_config[\"semantic_relation\"]:\n",
    "        for similarity in test_config[\"semantic_relation\"][data_suffix]:\n",
    "            if similarity[:-1]!=\"random\":\n",
    "                for model in test_config[task][data_suffix]:\n",
    "                    # if model==\"random\":\n",
    "                    #     continue\n",
    "                    for model_suffix in test_config[task][data_suffix][model]:\n",
    "                        df = pd.read_csv(f\"{base_folder}/{dataset_name}/exp/{similarity}_{task}_{dataset_name}_{data_suffix}_{model}_{model_suffix}.csv\", index_col=0)\n",
    "                        model_name = model\n",
    "                        df[\"order\"] = [model_order[model_name]] * len(df)\n",
    "                        df[\"Encoder\"] = [model_name] * len(df)\n",
    "                        df[\"Dataset\"] = [datasets[dataset_name]] * len(df)\n",
    "                        df[\"encoder_name\"] = [model_formal_names[model_name]] * len(df)\n",
    "                        df[\"Relation\"] = [rel_formal_names[similarity]] * len(df)\n",
    "                        data_df = pd.concat((data_df, df))\n",
    "                df = pd.read_csv(f\"{base_folder}/{dataset_name}/exp/{similarity}_{task}_{dataset_name}_{data_suffix}_random_baseline.csv\", index_col=0)\n",
    "                model_name = f\"Cantelli's UB\"\n",
    "                df[\"order\"] = [model_order[model_name]] * len(df)\n",
    "                df[\"Encoder\"] = [model_name] * len(df)\n",
    "                df[\"encoder_name\"] = [model_name] * len(df)\n",
    "                df[\"Dataset\"] = [datasets[dataset_name]] * len(df)\n",
    "                df[\"Relation\"] = [rel_formal_names[similarity]] * len(df)\n",
    "                df[\"Group Coherence Rate\"] = df[\"Intrusion Upper Bound\"]\n",
    "                data_df = pd.concat((data_df, df))\n",
    "data_df = data_df.reset_index(drop=True)\n",
    "data_df[\"rel_order\"] = data_df[\"Relation\"].apply(lambda x: relation_order[x])\n",
    "data_df = data_df.sort_values(by=[\"order\", \"rel_order\"])\n",
    "colors = [color_list[m] for m in data_df.order.unique()]\n",
    "data_df[\"Coherence Rate\"] = data_df[[\"Group Coherence Rate\", \"Rank Coherence Rate\"]].mean(axis=1)"
   ]
  },
  {
   "cell_type": "code",
   "execution_count": 8,
   "metadata": {},
   "outputs": [
    {
     "name": "stderr",
     "output_type": "stream",
     "text": [
      "/tmp/ipykernel_19346/896116629.py:12: UserWarning: The palette list has more values (3) than needed (2), which may not be intended.\n",
      "  sns.barplot(data=data_df[(data_df[\"Dataset\"]==name)&conditions], x=\"Relation\", y=\"Coherence Rate\", hue=\"encoder_name\", ax=axes, palette=colors)\n"
     ]
    },
    {
     "data": {
      "image/png": "[encoded data removed]",
      "text/plain": [
       "<Figure size 1080x288 with 1 Axes>"
      ]
     },
     "metadata": {
      "needs_background": "light"
     },
     "output_type": "display_data"
    }
   ],
   "source": [
    "fig, axes = plt.subplots(1, 1,figsize=(15, 4), sharex=True, sharey=True)\n",
    "i = 0\n",
    "conditions = (\n",
    "    data_df[\"encoder_name\"]!=\"Cantelli's UB\"\n",
    ")\n",
    "\n",
    "datasets = {\n",
    "    'Cora': 'Cora',\n",
    "}\n",
    "for dataset_name in datasets:\n",
    "    name = datasets[dataset_name]\n",
    "    sns.barplot(data=data_df[(data_df[\"Dataset\"]==name)&conditions], x=\"Relation\", y=\"Coherence Rate\", hue=\"encoder_name\", ax=axes, palette=colors)\n",
    "    axes.set_ylabel(\"Coherence Rate\")\n",
    "    axes.set_xlabel(None)\n",
    "    axes.set_ylim(0,1)\n",
    "    axes.set_title(datasets[dataset_name])\n",
    "    axes.legend(ncol=len(model_name))\n",
    "    plt.tight_layout()\n",
    "    i+=1\n",
    "plt.savefig(f\"{task}_homo_coherence_half.pdf\", dpi=300)"
   ]
  },
  {
   "cell_type": "code",
   "execution_count": null,
   "metadata": {},
   "outputs": [],
   "source": []
  }
 ],
 "metadata": {
  "kernelspec": {
   "display_name": "Python 3",
   "language": "python",
   "name": "python3"
  },
  "language_info": {
   "codemirror_mode": {
    "name": "ipython",
    "version": 3
   },
   "file_extension": ".py",
   "mimetype": "text/x-python",
   "name": "python",
   "nbconvert_exporter": "python",
   "pygments_lexer": "ipython3",
   "version": "3.10.12"
  },
  "orig_nbformat": 4
 },
 "nbformat": 4,
 "nbformat_minor": 2
}
