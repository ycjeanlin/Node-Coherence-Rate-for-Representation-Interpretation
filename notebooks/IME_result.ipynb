{
 "cells": [
  {
   "cell_type": "code",
   "execution_count": 1,
   "metadata": {},
   "outputs": [
    {
     "data": {
      "text/plain": [
       "'/home/ubuntu/NCI/notebooks'"
      ]
     },
     "execution_count": 1,
     "metadata": {},
     "output_type": "execute_result"
    }
   ],
   "source": [
    "import os\n",
    "os.getcwd()"
   ]
  },
  {
   "cell_type": "code",
   "execution_count": 2,
   "metadata": {},
   "outputs": [
    {
     "data": {
      "text/plain": [
       "'/home/ubuntu/NCI'"
      ]
     },
     "execution_count": 2,
     "metadata": {},
     "output_type": "execute_result"
    }
   ],
   "source": [
    "import os\n",
    "os.chdir(\"/home/ubuntu/NCI\")\n",
    "os.getcwd()"
   ]
  },
  {
   "cell_type": "code",
   "execution_count": 3,
   "metadata": {},
   "outputs": [],
   "source": [
    "import json\n",
    "import numpy as np\n",
    "import pandas as pd\n",
    "\n",
    "\n",
    "pd.set_option(\"display.precision\", 4)\n",
    "pd.options.display.float_format = '{:,.4f}'.format"
   ]
  },
  {
   "cell_type": "code",
   "execution_count": 4,
   "metadata": {},
   "outputs": [],
   "source": [
    "def load_coherence_test_result(dataset_name, base_folder, model_name, exp_suffix=\"\", verbose=False):\n",
    "    mrr = []\n",
    "    test_config = json.load(open(f\"./config/{dataset_name}_coherence_test.json\", \"r\"))\n",
    "    for data_suffix in test_config[\"semantic_relation\"]:\n",
    "        for model_suffix in test_config[\"semantic_relation\"][data_suffix]:\n",
    "            if model_suffix[:-1]==\"random\" or model_suffix==\"common_neighbor\":\n",
    "                continue\n",
    "            data_df = pd.DataFrame()\n",
    "            for similarity in test_config[\"semantic_relation\"][data_suffix]:\n",
    "                df = pd.read_csv(f\"{base_folder}/{dataset_name}/exp/{similarity}_exp_{dataset_name}_{data_suffix}_{model_name}_{model_suffix}{exp_suffix}.csv\", index_col=0)\n",
    "                df[\"Encoder\"] = [f\"{model_name}_{model_suffix}\"] * len(df)\n",
    "                df[\"Relation\"] = [similarity] * len(df)\n",
    "                data_df = pd.concat([data_df, df]) \n",
    "            data_df = data_df.reset_index(drop=True)\n",
    "            data_df[\"Coherence Rate\"] = data_df[[\"Group Coherence Rate\", \"Rank Coherence Rate\"]].mean(axis=1)\n",
    "            result_df = data_df.groupby(by=\"Relation\")[[\"Coherence Rate\"]].mean().reset_index()\n",
    "            conditions = (\n",
    "                (result_df[\"Relation\"]!=\"random1\")\n",
    "                & (result_df[\"Relation\"]!=\"random2\")\n",
    "                & (result_df[\"Relation\"]!=\"random3\")\n",
    "                & (result_df[\"Relation\"]!=\"random4\")\n",
    "                & (result_df[\"Relation\"]!=\"random5\")\n",
    "                & (result_df[\"Relation\"]!=\"common_neighbor\")\n",
    "            )\n",
    "            result_df = result_df[conditions].reset_index(drop=True)\n",
    "            result_df[\"rank\"] = result_df[\"Coherence Rate\"].rank(ascending=False)\n",
    "            rel_rank = result_df[result_df[\"Relation\"]==model_suffix][\"rank\"].item()\n",
    "            mrr.append(1/rel_rank)\n",
    "\n",
    "        print(f\"{dataset_name} Accuracy: {np.array(mrr).mean():.3f}\")\n",
    "    return np.array(mrr).mean()\n"
   ]
  },
  {
   "attachments": {},
   "cell_type": "markdown",
   "metadata": {},
   "source": [
    "# Accuracy"
   ]
  },
  {
   "cell_type": "code",
   "execution_count": 5,
   "metadata": {},
   "outputs": [],
   "source": [
    "task = \"exp\"\n",
    "base_folder = f\"./data\"\n",
    "model_name = \"svd\"\n",
    "data_suffix = \"baseline\"\n",
    "datasets = {\n",
    "    'Cora': 'Cora',\n",
    "}"
   ]
  },
  {
   "cell_type": "code",
   "execution_count": 6,
   "metadata": {},
   "outputs": [
    {
     "name": "stdout",
     "output_type": "stream",
     "text": [
      "Cora Accuracy: 0.929\n"
     ]
    }
   ],
   "source": [
    "scores = []\n",
    "methods = []\n",
    "data_names = []\n",
    "exp_suffix =512 \n",
    "for dataset_name in datasets:\n",
    "    coherence_mrr = load_coherence_test_result(dataset_name, base_folder, model_name, f\"_{exp_suffix}\", verbose=True)\n",
    "    scores.append(coherence_mrr)\n",
    "    methods.append(\"Coherence Rate\")\n",
    "    data_names.append(dataset_name)"
   ]
  },
  {
   "cell_type": "code",
   "execution_count": null,
   "metadata": {},
   "outputs": [],
   "source": []
  }
 ],
 "metadata": {
  "kernelspec": {
   "display_name": "Python 3",
   "language": "python",
   "name": "python3"
  },
  "language_info": {
   "codemirror_mode": {
    "name": "ipython",
    "version": 3
   },
   "file_extension": ".py",
   "mimetype": "text/x-python",
   "name": "python",
   "nbconvert_exporter": "python",
   "pygments_lexer": "ipython3",
   "version": "3.10.12"
  },
  "orig_nbformat": 4
 },
 "nbformat": 4,
 "nbformat_minor": 2
}
